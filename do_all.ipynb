{
 "cells": [
  {
   "cell_type": "code",
   "execution_count": null,
   "metadata": {},
   "outputs": [
    {
     "name": "stdout",
     "output_type": "stream",
     "text": [
      "Requirement already satisfied: numpy in /Volumes/Sync/Sys/OSX/linked/root/usr/local/bin/anaconda/lib/python3.6/site-packages (1.15.4)\n",
      "Requirement already satisfied: econ-ark in /Volumes/Sync/Sys/OSX/linked/root/usr/local/bin/anaconda/lib/python3.6/site-packages (0.10.0.dev2)\n",
      "Requirement already satisfied: joblib in /Volumes/Sync/Sys/OSX/linked/root/usr/local/bin/anaconda/lib/python3.6/site-packages (from econ-ark) (0.13.0)\n",
      "Requirement already satisfied: Sphinx in /Volumes/Sync/Sys/OSX/linked/root/usr/local/bin/anaconda/lib/python3.6/site-packages (from econ-ark) (1.8.2)\n",
      "Requirement already satisfied: numpy in /Volumes/Sync/Sys/OSX/linked/root/usr/local/bin/anaconda/lib/python3.6/site-packages (from econ-ark) (1.15.4)\n",
      "Requirement already satisfied: dill in /Volumes/Sync/Sys/OSX/linked/root/usr/local/bin/anaconda/lib/python3.6/site-packages (from econ-ark) (0.2.9)\n",
      "Requirement already satisfied: future in /Volumes/Sync/Sys/OSX/linked/root/usr/local/bin/anaconda/lib/python3.6/site-packages (from econ-ark) (0.17.1)\n",
      "Requirement already satisfied: scipy in /Volumes/Sync/Sys/OSX/linked/root/usr/local/bin/anaconda/lib/python3.6/site-packages (from econ-ark) (1.0.0)\n",
      "Requirement already satisfied: matplotlib in /Volumes/Sync/Sys/OSX/linked/root/usr/local/bin/anaconda/lib/python3.6/site-packages (from econ-ark) (3.0.1)\n",
      "Requirement already satisfied: numpydoc in /Volumes/Sync/Sys/OSX/linked/root/usr/local/bin/anaconda/lib/python3.6/site-packages (from econ-ark) (0.8.0)\n",
      "Requirement already satisfied: six>=1.5 in /Volumes/Sync/Sys/OSX/linked/root/usr/local/bin/anaconda/lib/python3.6/site-packages (from Sphinx->econ-ark) (1.11.0)\n",
      "Requirement already satisfied: Jinja2>=2.3 in /Volumes/Sync/Sys/OSX/linked/root/usr/local/bin/anaconda/lib/python3.6/site-packages (from Sphinx->econ-ark) (2.10)\n",
      "Requirement already satisfied: Pygments>=2.0 in /Volumes/Sync/Sys/OSX/linked/root/usr/local/bin/anaconda/lib/python3.6/site-packages (from Sphinx->econ-ark) (2.2.0)\n",
      "Requirement already satisfied: docutils>=0.11 in /Volumes/Sync/Sys/OSX/linked/root/usr/local/bin/anaconda/lib/python3.6/site-packages (from Sphinx->econ-ark) (0.14)\n",
      "Requirement already satisfied: snowballstemmer>=1.1 in /Volumes/Sync/Sys/OSX/linked/root/usr/local/bin/anaconda/lib/python3.6/site-packages (from Sphinx->econ-ark) (1.2.1)\n",
      "Requirement already satisfied: babel!=2.0,>=1.3 in /Volumes/Sync/Sys/OSX/linked/root/usr/local/bin/anaconda/lib/python3.6/site-packages (from Sphinx->econ-ark) (2.6.0)\n",
      "Requirement already satisfied: alabaster<0.8,>=0.7 in /Volumes/Sync/Sys/OSX/linked/root/usr/local/bin/anaconda/lib/python3.6/site-packages (from Sphinx->econ-ark) (0.7.12)\n",
      "Requirement already satisfied: imagesize in /Volumes/Sync/Sys/OSX/linked/root/usr/local/bin/anaconda/lib/python3.6/site-packages (from Sphinx->econ-ark) (1.1.0)\n",
      "Requirement already satisfied: requests>=2.0.0 in /Volumes/Sync/Sys/OSX/linked/root/usr/local/bin/anaconda/lib/python3.6/site-packages (from Sphinx->econ-ark) (2.20.1)\n",
      "Requirement already satisfied: setuptools in /Volumes/Sync/Sys/OSX/linked/root/usr/local/bin/anaconda/lib/python3.6/site-packages (from Sphinx->econ-ark) (40.6.2)\n",
      "Requirement already satisfied: packaging in /Volumes/Sync/Sys/OSX/linked/root/usr/local/bin/anaconda/lib/python3.6/site-packages (from Sphinx->econ-ark) (18.0)\n",
      "Requirement already satisfied: sphinxcontrib-websupport in /Volumes/Sync/Sys/OSX/linked/root/usr/local/bin/anaconda/lib/python3.6/site-packages (from Sphinx->econ-ark) (1.1.0)\n",
      "Requirement already satisfied: cycler>=0.10 in /Volumes/Sync/Sys/OSX/linked/root/usr/local/bin/anaconda/lib/python3.6/site-packages (from matplotlib->econ-ark) (0.10.0)\n",
      "Requirement already satisfied: kiwisolver>=1.0.1 in /Volumes/Sync/Sys/OSX/linked/root/usr/local/bin/anaconda/lib/python3.6/site-packages (from matplotlib->econ-ark) (1.0.1)\n",
      "Requirement already satisfied: pyparsing!=2.0.4,!=2.1.2,!=2.1.6,>=2.0.1 in /Volumes/Sync/Sys/OSX/linked/root/usr/local/bin/anaconda/lib/python3.6/site-packages (from matplotlib->econ-ark) (2.3.0)\n",
      "Requirement already satisfied: python-dateutil>=2.1 in /Volumes/Sync/Sys/OSX/linked/root/usr/local/bin/anaconda/lib/python3.6/site-packages (from matplotlib->econ-ark) (2.7.5)\n",
      "Requirement already satisfied: MarkupSafe>=0.23 in /Volumes/Sync/Sys/OSX/linked/root/usr/local/bin/anaconda/lib/python3.6/site-packages (from Jinja2>=2.3->Sphinx->econ-ark) (1.1.0)\n",
      "Requirement already satisfied: pytz>=0a in /Volumes/Sync/Sys/OSX/linked/root/usr/local/bin/anaconda/lib/python3.6/site-packages (from babel!=2.0,>=1.3->Sphinx->econ-ark) (2018.7)\n",
      "Requirement already satisfied: idna<2.8,>=2.5 in /Volumes/Sync/Sys/OSX/linked/root/usr/local/bin/anaconda/lib/python3.6/site-packages (from requests>=2.0.0->Sphinx->econ-ark) (2.7)\n",
      "Requirement already satisfied: certifi>=2017.4.17 in /Volumes/Sync/Sys/OSX/linked/root/usr/local/bin/anaconda/lib/python3.6/site-packages (from requests>=2.0.0->Sphinx->econ-ark) (2019.3.9)\n",
      "Requirement already satisfied: urllib3<1.25,>=1.21.1 in /Volumes/Sync/Sys/OSX/linked/root/usr/local/bin/anaconda/lib/python3.6/site-packages (from requests>=2.0.0->Sphinx->econ-ark) (1.23)\n",
      "Requirement already satisfied: chardet<3.1.0,>=3.0.2 in /Volumes/Sync/Sys/OSX/linked/root/usr/local/bin/anaconda/lib/python3.6/site-packages (from requests>=2.0.0->Sphinx->econ-ark) (3.0.4)\n",
      "Requirement already satisfied: pandas in /Volumes/Sync/Sys/OSX/linked/root/usr/local/bin/anaconda/lib/python3.6/site-packages (0.19.2)\n",
      "Requirement already satisfied: python-dateutil>=2 in /Volumes/Sync/Sys/OSX/linked/root/usr/local/bin/anaconda/lib/python3.6/site-packages (from pandas) (2.7.5)\n",
      "Requirement already satisfied: numpy>=1.7.0 in /Volumes/Sync/Sys/OSX/linked/root/usr/local/bin/anaconda/lib/python3.6/site-packages (from pandas) (1.15.4)\n",
      "Requirement already satisfied: pytz>=2011k in /Volumes/Sync/Sys/OSX/linked/root/usr/local/bin/anaconda/lib/python3.6/site-packages (from pandas) (2018.7)\n",
      "Requirement already satisfied: six>=1.5 in /Volumes/Sync/Sys/OSX/linked/root/usr/local/bin/anaconda/lib/python3.6/site-packages (from python-dateutil>=2->pandas) (1.11.0)\n",
      "Requirement already satisfied: statsmodels in /Volumes/Sync/Sys/OSX/linked/root/usr/local/bin/anaconda/lib/python3.6/site-packages (0.8.0)\n",
      "Requirement already satisfied: psutil in /Volumes/Sync/Sys/OSX/linked/root/usr/local/bin/anaconda/lib/python3.6/site-packages (5.4.8)\n"
     ]
    },
    {
     "name": "stderr",
     "output_type": "stream",
     "text": [
      "/Volumes/Sync/Sys/OSX/linked/root/usr/local/bin/anaconda/lib/python3.6/site-packages/HARK/ConsumptionSaving/RepAgentModel.py:11: UserWarning: Please import from ConsRepAgentModel rather than RepAgentModel.  This module will be removed in a future version of HARK.\n",
      "  warnings.warn('Please import from ConsRepAgentModel rather than RepAgentModel.  This module will be removed in a future version of HARK.')\n"
     ]
    },
    {
     "name": "stdout",
     "output_type": "stream",
     "text": [
      "Now solving the SOE model; this will take a few minutes.\n"
     ]
    },
    {
     "name": "stderr",
     "output_type": "stream",
     "text": [
      "/Volumes/Sync/Sys/OSX/linked/root/usr/local/bin/anaconda/lib/python3.6/site-packages/ipykernel_launcher.py:60: UserWarning: \n",
      "\n",
      "WARNING: You have selected to run SOE and/or DSGE, with RAM < 32GB. This may fill up your memory and crash your computer. Please run this code on a machine with >= 32G of RAM. Relevant values:\n",
      "    \n",
      "    do_SOE      = True\n",
      "    do_DSGE     = False\n",
      "    \n",
      "    actual_RAM_size_GB  = ~16 GB\n",
      "    desired_RAM_size_GB =  32 GB\n",
      "\n",
      "You may want to interrupt this code to avoid experiencing an out-of-memory computer crash.\n",
      "\n",
      "\n"
     ]
    },
    {
     "name": "stdout",
     "output_type": "stream",
     "text": [
      "**** WARNING: could not execute multiThreadCommands in HARK.core.Market.solveAgents(), so using the serial version instead. This will likely be slower. The multiTreadCommands() functions failed with the following error: \n",
      "     <class 'joblib.externals.loky.process_executor.BrokenProcessPool'> : A task has failed to un-serialize. Please ensure that the arguments of the function are all picklable.\n"
     ]
    }
   ],
   "source": [
    "'''\n",
    "This file will run absolutely all of the results in the paper.  As fair warning,\n",
    "this might take several days to run.  It runs the excess sensitivity experiment\n",
    "first, then all of the SOE model exercises, then the DSGE model, then the RA model.\n",
    "Please look at USER_OPTIONS.py and set three options there before proceeding.\n",
    "'''\n",
    "import os\n",
    "# here = os.path.dirname(os.path.realpath(__file__))\n",
    "here = os.getcwd()\n",
    "my_path = os.path.join(here,'')\n",
    "path_to_models = os.path.join(my_path,'Code/Models')\n",
    "path_to_options = os.path.join(path_to_models,'Options')\n",
    "\n",
    "!pip install numpy\n",
    "!pip install econ-ark\n",
    "!pip install pandas\n",
    "!pip install statsmodels\n",
    "!pip install psutil\n",
    "\n",
    "exec(open(my_path + 'USER_OPTIONS.py').read())\n",
    "os.chdir(path_to_options)\n",
    "exec(open('RunSOEonly.py').read())\n",
    "exec(open('DoMakeMainResults.py').read())\n",
    "exec(open('DontRunExtraStuff.py').read())\n",
    "exec(open('DontMakeStataOutput.py').read())\n",
    "os.chdir(path_to_models)\n",
    "run_parker = True # Run excess sensitivity experiment first\n",
    "exec(open('StickyE_MAIN.py').read())\n",
    "\n",
    "os.chdir(path_to_options)\n",
    "exec(open('RunAllModels.py').read())\n",
    "exec(open('DoMakeMainResults.py').read())\n",
    "exec(open('DoRunExtraStuff.py').read())\n",
    "exec(open('DoMakeStataOutput.py').read())\n",
    "os.chdir(path_to_models)\n",
    "run_parker = False # Don't excess sensitivity experiment this time\n",
    "exec(open('StickyE_MAIN.py').read())"
   ]
  }
 ],
 "metadata": {
  "kernelspec": {
   "display_name": "Python 3",
   "language": "python",
   "name": "python3"
  },
  "language_info": {
   "codemirror_mode": {
    "name": "ipython",
    "version": 3
   },
   "file_extension": ".py",
   "mimetype": "text/x-python",
   "name": "python",
   "nbconvert_exporter": "python",
   "pygments_lexer": "ipython3",
   "version": "3.6.7"
  },
  "varInspector": {
   "cols": {
    "lenName": 16,
    "lenType": 16,
    "lenVar": 40
   },
   "kernels_config": {
    "python": {
     "delete_cmd_postfix": "",
     "delete_cmd_prefix": "del ",
     "library": "var_list.py",
     "varRefreshCmd": "print(var_dic_list())"
    },
    "r": {
     "delete_cmd_postfix": ") ",
     "delete_cmd_prefix": "rm(",
     "library": "var_list.r",
     "varRefreshCmd": "cat(var_dic_list()) "
    }
   },
   "types_to_exclude": [
    "module",
    "function",
    "builtin_function_or_method",
    "instance",
    "_Feature"
   ],
   "window_display": false
  }
 },
 "nbformat": 4,
 "nbformat_minor": 2
}
